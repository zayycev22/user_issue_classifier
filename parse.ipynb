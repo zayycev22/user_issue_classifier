{
 "cells": [
  {
   "cell_type": "code",
   "execution_count": null,
   "metadata": {
    "collapsed": true
   },
   "outputs": [],
   "source": [
    "TRAIN_DATA = \"DATA/train.csv\"\n",
    "TEST_DATA = \"DATA/test.csv\"\n",
    "SUBMISSON_DATA = \"DATA/submission.csv\""
   ]
  },
  {
   "cell_type": "code",
   "execution_count": null,
   "outputs": [],
   "source": [
    "import pandas as pd\n",
    "import statsmodels.api as sm"
   ],
   "metadata": {
    "collapsed": false
   }
  },
  {
   "cell_type": "code",
   "execution_count": null,
   "outputs": [],
   "source": [
    "df = pd.read_csv(TRAIN_DATA)\n",
    "df"
   ],
   "metadata": {
    "collapsed": false
   }
  },
  {
   "cell_type": "code",
   "execution_count": null,
   "outputs": [],
   "source": [
    "df.rename({df.columns[9]: \"Решение\"}, inplace=True)\n",
    "df.columns"
   ],
   "metadata": {
    "collapsed": false
   }
  },
  {
   "cell_type": "code",
   "execution_count": null,
   "outputs": [],
   "source": [
    "tdf = df[df['Статус'] == 'Отменен']\n",
    "tdf['Тип переклассификации'].value_counts()"
   ],
   "metadata": {
    "collapsed": false
   }
  },
  {
   "cell_type": "code",
   "execution_count": null,
   "outputs": [],
   "source": [
    "priority = {'3-Низкий': 0, '2-Средний': 1, '1-Высокий': 2, '0-Критический': 3}\n",
    "status = {'Отменен': 0, 'Закрыт': 1}\n",
    "obr = {'Запрос': 0, 'Инцидент': 1}\n",
    "critical = {'4-Нет': 0, \"3-Базовая\": 2, \"2-Повышенная\": 3, \"1-Особая\": 1}\n",
    "influence = {\"4-Нет влияния\": 0, \"3-Малое\": 1, \"2-Значительное\": 2, \"1-Всеохватывающее\": 3}"
   ],
   "metadata": {
    "collapsed": false
   }
  },
  {
   "cell_type": "code",
   "execution_count": null,
   "outputs": [],
   "source": [
    "df['Приоритет'] = df['Приоритет'].map(priority)\n",
    "df"
   ],
   "metadata": {
    "collapsed": false
   }
  },
  {
   "cell_type": "code",
   "execution_count": null,
   "outputs": [],
   "source": [
    "df['Статус'] = df['Статус'].map(status)\n",
    "df"
   ],
   "metadata": {
    "collapsed": false
   }
  },
  {
   "cell_type": "code",
   "execution_count": null,
   "outputs": [],
   "source": [
    "df['Тип обращения на момент подачи'] = df['Тип обращения на момент подачи'].map(obr)\n",
    "df['Тип обращения итоговый'] = df['Тип обращения итоговый'].map(obr)\n",
    "df"
   ],
   "metadata": {
    "collapsed": false
   }
  },
  {
   "cell_type": "code",
   "execution_count": null,
   "outputs": [],
   "source": [
    "df['Критичность'] = df['Критичность'].map(critical)\n",
    "df['Влияние'] = df['Влияние'].map(influence)\n",
    "df"
   ],
   "metadata": {
    "collapsed": false
   }
  },
  {
   "cell_type": "code",
   "execution_count": null,
   "outputs": [],
   "source": [
    "# df[df['Дата восстановления'].isna()] drop\n",
    "df = df.dropna(subset=['Дата восстановления'])\n",
    "df"
   ],
   "metadata": {
    "collapsed": false
   }
  },
  {
   "cell_type": "code",
   "execution_count": null,
   "outputs": [],
   "source": [
    "df = df.drop_duplicates(subset=['Дата закрытия обращения', 'Система', 'Место', 'Сервис'])"
   ],
   "metadata": {
    "collapsed": false
   }
  },
  {
   "cell_type": "code",
   "execution_count": null,
   "outputs": [],
   "source": [
    "df[df['Статус'] != 0]['Тип переклассификации'].value_counts()"
   ],
   "metadata": {
    "collapsed": false
   }
  },
  {
   "cell_type": "code",
   "execution_count": null,
   "outputs": [],
   "source": [
    "df['Тип переклассификации'].value_counts()"
   ],
   "metadata": {
    "collapsed": false
   }
  },
  {
   "cell_type": "code",
   "execution_count": null,
   "outputs": [],
   "source": [
    "df = df[df['Статус'] != 0]"
   ],
   "metadata": {
    "collapsed": false
   }
  },
  {
   "cell_type": "code",
   "execution_count": null,
   "outputs": [],
   "source": [
    "df['Дата обращения'] = pd.to_datetime(df['Дата обращения'])\n",
    "df['Дата закрытия обращения'] = pd.to_datetime(df['Дата закрытия обращения'])\n",
    "df['range_time'] = df['Дата закрытия обращения'] - df['Дата обращения']\n",
    "df['Крайний срок'] = pd.to_datetime(df['Крайний срок'])\n",
    "df['time_to_solve'] = (df['Крайний срок'] - df['Дата обращения'])\n",
    "df"
   ],
   "metadata": {
    "collapsed": false
   }
  },
  {
   "cell_type": "code",
   "execution_count": null,
   "outputs": [],
   "source": [
    "df['range_time'] = df['range_time'].dt.total_seconds() / 3600\n",
    "df['time_to_solve'] = df['time_to_solve'].dt.total_seconds() / 3600\n",
    "df"
   ],
   "metadata": {
    "collapsed": false
   }
  },
  {
   "cell_type": "code",
   "execution_count": null,
   "outputs": [],
   "source": [
    "system_l = df['Система'].unique()\n",
    "system_d = {}\n",
    "for i in range(len(system_l)):\n",
    "    system_d[system_l[i]] = i\n",
    "system_l"
   ],
   "metadata": {
    "collapsed": false
   }
  },
  {
   "cell_type": "code",
   "execution_count": null,
   "outputs": [],
   "source": [
    "df['Система'] = df['Система'].map(system_d)\n",
    "df"
   ],
   "metadata": {
    "collapsed": false
   }
  },
  {
   "cell_type": "code",
   "execution_count": null,
   "outputs": [],
   "source": [
    "df['koef'] = df['Критичность'] * df['Влияние']\n",
    "df"
   ],
   "metadata": {
    "collapsed": false
   }
  },
  {
   "cell_type": "code",
   "execution_count": null,
   "outputs": [],
   "source": [
    "from sklearn.preprocessing import LabelEncoder\n",
    "\n",
    "label_encoder = LabelEncoder()\n",
    "labels = label_encoder.fit_transform(df['Содержание'])\n",
    "df['numeric_sod'] = labels\n",
    "df"
   ],
   "metadata": {
    "collapsed": false
   }
  },
  {
   "cell_type": "code",
   "execution_count": null,
   "outputs": [],
   "source": [
    "place_l = df['Место'].unique()\n",
    "place_d = {}\n",
    "for i in range(len(place_l)):\n",
    "    place_d[place_l[i]] = i\n",
    "df['Место'] = df['Место'].map(place_d)\n",
    "df"
   ],
   "metadata": {
    "collapsed": false
   }
  },
  {
   "cell_type": "code",
   "execution_count": null,
   "outputs": [],
   "source": [
    "func_l = df['Функциональная группа'].unique()\n",
    "func_d = {}\n",
    "for i in range(len(func_l)):\n",
    "    func_d[func_l[i]] = i\n",
    "df['Функциональная группа'] = df['Функциональная группа'].map(func_d)\n",
    "df"
   ],
   "metadata": {
    "collapsed": false
   }
  },
  {
   "cell_type": "code",
   "execution_count": null,
   "outputs": [],
   "source": [
    "label_encoder2 = LabelEncoder()\n",
    "labels2 = label_encoder2.fit_transform(df[df.columns[9]])\n",
    "df['numeric_ans'] = labels2\n",
    "df"
   ],
   "metadata": {
    "collapsed": false
   }
  },
  {
   "cell_type": "code",
   "execution_count": null,
   "outputs": [],
   "source": [
    "df.to_csv(\"DATA/new_train.csv\", index=False)"
   ],
   "metadata": {
    "collapsed": false
   }
  },
  {
   "cell_type": "code",
   "execution_count": null,
   "outputs": [],
   "source": [
    "target = df['Тип обращения итоговый']\n",
    "features = df[[\"numeric_sod\", \"numeric_ans\",'Приоритет', 'Тип обращения на момент подачи',\n",
    "               'Критичность', 'Влияние', 'range_time', 'Система', 'Место',\n",
    "               'Функциональная группа', 'koef', 'time_to_solve']]\n",
    "features = sm.add_constant(features)\n",
    "model = sm.OLS(target, features)\n",
    "result = model.fit()\n",
    "model2 = sm.Logit(target, features)\n",
    "result2 = model2.fit()\n",
    "print(result.summary())"
   ],
   "metadata": {
    "collapsed": false
   }
  },
  {
   "cell_type": "code",
   "execution_count": null,
   "outputs": [],
   "source": [
    "print(result2.summary())"
   ],
   "metadata": {
    "collapsed": false
   }
  },
  {
   "cell_type": "code",
   "execution_count": null,
   "outputs": [],
   "source": [
    "# Визуализация данных, поиск зависимостей\n",
    "import seaborn as sns"
   ],
   "metadata": {
    "collapsed": false
   }
  },
  {
   "cell_type": "code",
   "execution_count": null,
   "outputs": [],
   "source": [
    "sns.displot(df, x=\"Влияние\",hue=\"Тип обращения итоговый\", multiple=\"stack\")"
   ],
   "metadata": {
    "collapsed": false
   }
  },
  {
   "cell_type": "code",
   "execution_count": null,
   "outputs": [],
   "source": [
    "sns.displot(df[df['Влияние']==2 ], x=\"Приоритет\",hue=\"Тип обращения итоговый\", multiple=\"stack\")"
   ],
   "metadata": {
    "collapsed": false
   }
  },
  {
   "cell_type": "code",
   "execution_count": null,
   "outputs": [],
   "source": [
    "sns.displot(df[df['Влияние']==2 ], x=\"Критичность\",hue=\"Тип обращения итоговый\", multiple=\"stack\")"
   ],
   "metadata": {
    "collapsed": false
   }
  },
  {
   "cell_type": "code",
   "execution_count": null,
   "outputs": [],
   "source": [
    "df['koef'] = (df['Приоритет'] + df['Критичность'])/df['Влияние']\n",
    "df"
   ],
   "metadata": {
    "collapsed": false
   }
  },
  {
   "cell_type": "code",
   "execution_count": null,
   "outputs": [],
   "source": [
    "df[df['Критичность'] == 3]"
   ],
   "metadata": {
    "collapsed": false
   }
  },
  {
   "cell_type": "code",
   "execution_count": null,
   "outputs": [],
   "source": [
    "sns.displot(df, x=\"range_time\",hue=\"Тип обращения итоговый\", multiple=\"stack\")"
   ],
   "metadata": {
    "collapsed": false
   }
  },
  {
   "cell_type": "code",
   "execution_count": null,
   "outputs": [],
   "source": [
    "df['Тип переклассификации'].value_counts()"
   ],
   "metadata": {
    "collapsed": false
   }
  }
 ],
 "metadata": {
  "kernelspec": {
   "display_name": "Python 3",
   "language": "python",
   "name": "python3"
  },
  "language_info": {
   "codemirror_mode": {
    "name": "ipython",
    "version": 2
   },
   "file_extension": ".py",
   "mimetype": "text/x-python",
   "name": "python",
   "nbconvert_exporter": "python",
   "pygments_lexer": "ipython2",
   "version": "2.7.6"
  }
 },
 "nbformat": 4,
 "nbformat_minor": 0
}
