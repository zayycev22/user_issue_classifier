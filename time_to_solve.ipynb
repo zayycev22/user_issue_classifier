{
 "cells": [
  {
   "cell_type": "code",
   "execution_count": null,
   "outputs": [],
   "source": [
    "import pandas as pd\n",
    "import numpy as np\n",
    "GLOBALS = {}\n",
    "GLOBALS[\"new_train\"] = \"DATA/new_train.csv\"\n",
    "dataFrame = pd.read_csv(GLOBALS[\"new_train\"])\n",
    "dataFrame.drop(columns=[\"Содержание\", \"Сервис\", \"Решение             \", \"range_time\", 'numeric_sod', \"numeric_sod\", \"numeric_ans\"], inplace=True)\n",
    "dataFrame"
   ],
   "metadata": {
    "collapsed": false
   }
  },
  {
   "cell_type": "code",
   "execution_count": null,
   "outputs": [],
   "source": [
    "dateTimeColumns = [\"Дата обращения\", \"Дата восстановления\", \"Дата закрытия обращения\"]\n",
    "\n",
    "for column in dateTimeColumns:\n",
    "    dataFrame[column] = pd.to_datetime(dataFrame[column], format=\"%Y-%m-%d %H:%M:%S\").astype(np.int64) // 10**9\n",
    "dataFrame[\"Крайний срок\"] = pd.to_datetime(dataFrame[\"Крайний срок\"], format=\"%Y-%m-%d %H:%M\").astype(np.int64) // 10**9\n",
    "\n",
    "dataFrame"
   ],
   "metadata": {
    "collapsed": false
   }
  },
  {
   "cell_type": "code",
   "execution_count": null,
   "outputs": [],
   "source": [
    "kega = pd.DataFrame()\n",
    "kega[\"time_to_solve\"] = (dataFrame[\"Крайний срок\"] - dataFrame[\"Дата обращения\"]) / 3600\n",
    "kega[\"time_to_solve\"]\n"
   ],
   "metadata": {
    "collapsed": false
   }
  },
  {
   "cell_type": "code",
   "execution_count": null,
   "outputs": [],
   "source": [
    "originDataFrame = pd.read_csv(\"DATA/new_train.csv\")\n",
    "originDataFrame.insert(20,\"time_to_solve\",kega[\"time_to_solve\"])\n",
    "originDataFrame"
   ],
   "metadata": {
    "collapsed": false
   }
  },
  {
   "cell_type": "code",
   "execution_count": null,
   "outputs": [],
   "source": [
    "originDataFrame.to_csv(\"DATA/new_train_with_time_to_solve.csv\")"
   ],
   "metadata": {
    "collapsed": false
   }
  }
 ],
 "metadata": {
  "kernelspec": {
   "display_name": "Python 3",
   "language": "python",
   "name": "python3"
  },
  "language_info": {
   "codemirror_mode": {
    "name": "ipython",
    "version": 2
   },
   "file_extension": ".py",
   "mimetype": "text/x-python",
   "name": "python",
   "nbconvert_exporter": "python",
   "pygments_lexer": "ipython2",
   "version": "2.7.6"
  }
 },
 "nbformat": 4,
 "nbformat_minor": 0
}
